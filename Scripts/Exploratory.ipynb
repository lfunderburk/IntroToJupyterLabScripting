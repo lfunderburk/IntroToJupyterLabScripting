{
 "cells": [
  {
   "cell_type": "code",
   "execution_count": null,
   "metadata": {},
   "outputs": [],
   "source": [
    "!pip install pandas --user"
   ]
  },
  {
   "cell_type": "code",
   "execution_count": null,
   "metadata": {},
   "outputs": [],
   "source": [
    "!pip install matplotlib --user"
   ]
  },
  {
   "cell_type": "code",
   "execution_count": null,
   "metadata": {},
   "outputs": [],
   "source": [
    "!pip install argparse --user"
   ]
  },
  {
   "cell_type": "code",
   "execution_count": null,
   "metadata": {},
   "outputs": [],
   "source": [
    "# Import Libraries\n",
    "import pandas as pd\n",
    "import zipfile\n",
    "import matplotlib.pyplot as plt\n",
    "from matplotlib.pyplot import figure"
   ]
  },
  {
   "cell_type": "code",
   "execution_count": null,
   "metadata": {},
   "outputs": [],
   "source": [
    "\"\"\"This function takes as input a path and a productID associated to a table obtained from StatsCan\n",
    "    In this exercise we will explore the dataset https://www150.statcan.gc.ca/t1/tbl1/en/tv.action?pid=1310011101#tables \n",
    "\"\"\" \n",
    "def read_data_compute_df(path_to_data):\n",
    "    # Read zipped file\n",
    "    zf = zipfile.ZipFile(path_to_data) \n",
    "    # Parse csv content without unzipping !!!\n",
    "    df = pd.read_csv(zf.open(str(productID)+'.csv'),low_memory=False)\n",
    "    \n",
    "    return df"
   ]
  },
  {
   "cell_type": "code",
   "execution_count": null,
   "metadata": {},
   "outputs": [],
   "source": [
    "# Read data\n",
    "path = \"\"\n",
    "cancer_data = read_data_compute_df()"
   ]
  },
  {
   "cell_type": "code",
   "execution_count": null,
   "metadata": {},
   "outputs": [],
   "source": [
    "# Clean up data\n",
    "clean_cancer_data= cancer_data.drop(columns=[\"DGUID\",\"UOM_ID\",\"UOM\",\"SCALAR_ID\",\"VECTOR\",\"COORDINATE\",\"STATUS\",\"TERMINATED\",\\\n",
    "              \"DECIMALS\",\"SYMBOL\"])"
   ]
  },
  {
   "cell_type": "code",
   "execution_count": null,
   "metadata": {},
   "outputs": [],
   "source": [
    "# Get data subsets\n",
    "dates = clean_cancer_data.iloc[:,0].unique()\n",
    "geog = clean_cancer_data.iloc[:,1].unique()\n",
    "age_group = clean_cancer_data.iloc[:,2].unique()\n",
    "sex = clean_cancer_data.iloc[:,3].unique()\n",
    "cancer_type = clean_cancer_data.iloc[:,4].unique()\n",
    "characteristics = clean_cancer_data.iloc[:,5].unique()"
   ]
  },
  {
   "cell_type": "code",
   "execution_count": null,
   "metadata": {},
   "outputs": [],
   "source": [
    "# Specify values\n",
    "year = dates[15]\n",
    "esex = sex[0]\n",
    "eage = age_group[7]\n",
    "geoLoc = geog[0]\n",
    "# I will use Lung and bronchus in this example. All other cancer types are stored in the cancer_type variable\n",
    "cancer = 'Lung and bronchus [C34.0-C34.9]'"
   ]
  },
  {
   "cell_type": "code",
   "execution_count": null,
   "metadata": {},
   "outputs": [],
   "source": [
    "# Extract subsets of data\n",
    "df_subdata_time = clean_cancer_data[(clean_cancer_data['REF_DATE'] == year)]\n",
    "df_subdata_time_sex = df_subdata_time[df_subdata_time[\"Sex\"]==esex]\n",
    "df_subdata_time_sex_age = df_subdata_time_sex#[df_subdata_time_sex[\"Age group\"]==eage]\n",
    "df_subdata_time_sex_age_geo = df_subdata_time_sex_age[df_subdata_time_sex_age[\"GEO\"]==geoLoc]\n",
    "df_subdata_time_sex_age_geo_canc = df_subdata_time_sex_age_geo[df_subdata_time_sex_age_geo[\"Primary types of cancer (ICD-O-3)\"]==cancer] \n",
    "df_subdata_time_sex_age_geo_canc_char = df_subdata_time_sex_age_geo_canc[df_subdata_time_sex_age_geo_canc[\"Characteristics\"]==\"Number of new cancer cases\"]\n",
    "df_subdata_time_sex_age_geo_canc_char.head(10)"
   ]
  },
  {
   "cell_type": "code",
   "execution_count": null,
   "metadata": {},
   "outputs": [],
   "source": [
    "# Plot our table\n",
    "# Specify figure size\n",
    "figure(figsize=(15,10))\n",
    "# Plot a bar chart of data subset\n",
    "plt.bar(df_subdata_time_sex_age_geo_canc_char[\"Age group\"],df_subdata_time_sex_age_geo_canc_char[\"VALUE\"],label=cancer);\n",
    "# Add a title\n",
    "plt.title(str(df_subdata_time_sex_age_geo_canc_char[\"Characteristics\"].unique()) + \", \" + str(year),fontsize=25)\n",
    "# Add a legend\n",
    "plt.legend(loc='upper left',bbox_to_anchor=(0.7,1))\n",
    "# Add x and y labels\n",
    "plt.ylabel(\"Number of individuals\",fontsize=15)\n",
    "plt.xlabel(\"Age group\",fontsize=15);\n",
    "# Formatting the plot: rotate x axis labels\n",
    "plt.xticks(rotation=90);\n",
    "# Same image to png\n",
    "plt.savefig(str(df_subdata_time_sex_age_geo_canc_char[\"Characteristics\"].unique()) + \"_\" + str(df_subdata_time_sex_age_geo_canc_char[\"Primary types of cancer (ICD-O-3)\"].unique()) + '.png')"
   ]
  },
  {
   "cell_type": "code",
   "execution_count": null,
   "metadata": {},
   "outputs": [],
   "source": []
  }
 ],
 "metadata": {
  "kernelspec": {
   "display_name": "Python 3",
   "language": "python",
   "name": "python3"
  },
  "language_info": {
   "codemirror_mode": {
    "name": "ipython",
    "version": 3
   },
   "file_extension": ".py",
   "mimetype": "text/x-python",
   "name": "python",
   "nbconvert_exporter": "python",
   "pygments_lexer": "ipython3",
   "version": "3.7.1"
  }
 },
 "nbformat": 4,
 "nbformat_minor": 2
}
